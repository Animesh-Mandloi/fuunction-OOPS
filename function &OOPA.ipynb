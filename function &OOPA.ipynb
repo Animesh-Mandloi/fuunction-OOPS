{
 "cells": [
  {
   "cell_type": "code",
   "execution_count": 2,
   "id": "ac39074c-85cd-489f-a7a6-c99fb3d7e350",
   "metadata": {},
   "outputs": [],
   "source": [
    "#Basic Function Example:\n",
    "def greet(name):\n",
    "    return f\"Hello, {name}!\""
   ]
  },
  {
   "cell_type": "code",
   "execution_count": null,
   "id": "37f41964-0a3b-46bb-a4df-6a121a9b9bf4",
   "metadata": {},
   "outputs": [],
   "source": [
    "#Generate Palindromic Numbers:\n",
    "def palindromic_numbers(n):\n",
    "    def is_palindrome(x):\n",
    "        return str(x) == str(x)[::-1]\n",
    "    for i in range(1, n + 1):\n",
    "        if is_palindrome(i):\n",
    "            yield i\n",
    "\n"
   ]
  },
  {
   "cell_type": "code",
   "execution_count": null,
   "id": "61819da4-1de7-4d21-afe0-28d2a82cacaf",
   "metadata": {},
   "outputs": [],
   "source": [
    "#Generate Even Numbers:\n",
    "def even_numbers(n):\n",
    "    for i in range(2, n + 1, 2):\n",
    "        yield i\n"
   ]
  },
  {
   "cell_type": "code",
   "execution_count": null,
   "id": "a4030d14-9743-4b94-b745-edd14410430e",
   "metadata": {},
   "outputs": [],
   "source": [
    "#Generate Powers of Two:\n",
    "def powers_of_two(n):\n",
    "    i = 1\n",
    "    while i <= n:\n",
    "        yield i\n",
    "        i *= 2\n"
   ]
  },
  {
   "cell_type": "code",
   "execution_count": null,
   "id": "bda72b3b-1ef4-47b3-b36e-8ce8cfae1595",
   "metadata": {},
   "outputs": [],
   "source": [
    "#Generate Prime Numbers:\n",
    "def prime_numbers(n):\n",
    "    def is_prime(num):\n",
    "        if num <= 1:\n",
    "            return False\n",
    "        for i in range(2, int(num**0.5) + 1):\n",
    "            if num % i == 0:\n",
    "                return False\n",
    "        return True\n",
    "    for i in range(2, n + 1):\n",
    "        if is_prime(i):\n",
    "            yield i\n"
   ]
  },
  {
   "cell_type": "code",
   "execution_count": null,
   "id": "05b8e732-f0e9-4d6a-b8b3-b3974bd573dd",
   "metadata": {},
   "outputs": [],
   "source": [
    "#Sum Using Lambda:\n",
    "sum_lambda = lambda a, b: a + b\n"
   ]
  },
  {
   "cell_type": "code",
   "execution_count": null,
   "id": "9e988ddc-c097-42b0-9440-254b935aaff0",
   "metadata": {},
   "outputs": [],
   "source": [
    "#sum_lambda = lambda a, b: a + b\n",
    "square_lambda = lambda x: x * x\n"
   ]
  },
  {
   "cell_type": "code",
   "execution_count": null,
   "id": "d58743eb-e260-4c2c-b790-83d3e6dc12f9",
   "metadata": {},
   "outputs": [],
   "source": [
    "#Even or Odd Using Lambda:\n",
    "even_odd_lambda = lambda x: 'Even' if x % 2 == 0 else 'Odd'\n"
   ]
  },
  {
   "cell_type": "code",
   "execution_count": null,
   "id": "e3cd0e10-5d59-4706-b5ce-5502b3316604",
   "metadata": {},
   "outputs": [],
   "source": [
    "#Palindrome Check Using Lambda:\n",
    "palindrome_lambda = lambda x: str(x) == str(x)[::-1]\n"
   ]
  },
  {
   "cell_type": "code",
   "execution_count": null,
   "id": "a29e720e-a66b-40d9-9f31-5abfa8677ef2",
   "metadata": {},
   "outputs": [],
   "source": [
    "#Find Maximum of Three Numbers Using Lambda:\n",
    "max_of_three = lambda a, b, c: max(a, b, c)\n"
   ]
  },
  {
   "cell_type": "code",
   "execution_count": null,
   "id": "10432cf6-042b-443a-bb04-581f72c1143b",
   "metadata": {},
   "outputs": [],
   "source": [
    "#Squares of Even Numbers from List:\n",
    "def even_squares(lst):\n",
    "    return [x*x for x in lst if x % 2 == 0]\n"
   ]
  },
  {
   "cell_type": "code",
   "execution_count": null,
   "id": "b8e85a8b-7281-467c-929e-8309a24f8ef8",
   "metadata": {},
   "outputs": [],
   "source": [
    "#T\n",
    "able of Numbers:\n",
    "def multiplication_table(lst):\n",
    "    return [[x * y for y in lst] for x in lst]\n"
   ]
  },
  {
   "cell_type": "code",
   "execution_count": null,
   "id": "4c63c354-8529-4969-a2ce-053c912c55a7",
   "metadata": {},
   "outputs": [],
   "source": [
    "#Sum of Digits from List:\n",
    "def sum_of_digits(lst):\n",
    "    return [sum(int(digit) for digit in str(x)) for x in lst]\n",
    "\n"
   ]
  },
  {
   "cell_type": "code",
   "execution_count": null,
   "id": "02c689b1-7c5c-49b5-be76-304c24fc8a80",
   "metadata": {},
   "outputs": [],
   "source": [
    "#Parent Class Animal with Method make_sound:\n",
    "class Animal:\n",
    "    def make_sound(self):\n",
    "        print(\"Generic animal sound\")\n"
   ]
  },
  {
   "cell_type": "code",
   "execution_count": null,
   "id": "709d9141-2c3a-4321-a870-2c35adccdcdd",
   "metadata": {},
   "outputs": [],
   "source": [
    "#Child Class Dog Overriding make_sound:\n",
    "class Dog(Animal):\n",
    "    def make_sound(self):\n",
    "        print(\"Woof!\")\n"
   ]
  },
  {
   "cell_type": "code",
   "execution_count": null,
   "id": "270742f0-d00c-4ef5-a473-d9cc559c4bca",
   "metadata": {},
   "outputs": [],
   "source": [
    "#Adding Method move in Animal:\n",
    "class Animal:\n",
    "    def move(self):\n",
    "        print(\"Animal moves\")\n",
    "\n",
    "class Dog(Animal):\n",
    "    def move(self):\n",
    "        print(\"Dog runs\")\n"
   ]
  },
  {
   "cell_type": "code",
   "execution_count": null,
   "id": "e416a463-9205-4f86-b800-59221dba6e7d",
   "metadata": {},
   "outputs": [],
   "source": [
    "#Class Mammal with Method reproduce:\n",
    "class Mammal:\n",
    "    def reproduce(self):\n",
    "        print(\"Giving birth to live young\")\n",
    "\n",
    "class DogMammal(Mammal, Dog):\n",
    "    pass\n"
   ]
  },
  {
   "cell_type": "code",
   "execution_count": null,
   "id": "951000b9-3992-47b2-a2a2-cd566b54d3c7",
   "metadata": {},
   "outputs": [],
   "source": [
    "#Class GermanShepherd Overriding make_sound:\n",
    "class GermanShepherd(Dog):\n",
    "    def make_sound(self):\n",
    "        print(\"Bark!\")\n"
   ]
  },
  {
   "cell_type": "code",
   "execution_count": null,
   "id": "3d5f4b8b-9074-4207-bbd2-bc69f84f5856",
   "metadata": {},
   "outputs": [],
   "source": [
    "#Constructors in Animal and Dog:\n",
    "class Animal:\n",
    "    def __init__(self, name):\n",
    "        self.name = name\n",
    "\n",
    "class Dog(Animal):\n",
    "    def __init__(self, name, breed):\n",
    "        super().__init__(name)\n",
    "        self.breed = breed\n"
   ]
  },
  {
   "cell_type": "code",
   "execution_count": null,
   "id": "195905f9-cfbe-4c9f-813c-07e09b8193f9",
   "metadata": {},
   "outputs": [],
   "source": [
    "#Example of Abstract Class for a Group of Related Classes:\n",
    "from abc import ABC, abstractmethod\n",
    "\n",
    "class Shape(ABC):\n",
    "    @abstractmethod\n",
    "    def area(self):\n",
    "        pass\n",
    "\n",
    "class Circle(Shape):\n",
    "    def __init__(self, radius):\n",
    "        self.radius = radius\n",
    "\n",
    "    def area(self):\n",
    "        return 3.14 * self.radius * self.radius\n"
   ]
  },
  {
   "cell_type": "code",
   "execution_count": null,
   "id": "5bce2ebd-59ca-440c-a0e7-7048242e9b07",
   "metadata": {},
   "outputs": [],
   "source": [
    "# Base Class and Subclasses with Overridden Methods:\n",
    "class Animal:\n",
    "    def make_sound(self):\n",
    "        print(\"Generic sound\")\n",
    "\n",
    "class Dog(Animal):\n",
    "    def make_sound(self):\n",
    "        print(\"Woof!\")\n",
    "\n",
    "class Cat(Animal):\n",
    "    def make_sound(self):\n",
    "        print(\"Meow!\")\n"
   ]
  },
  {
   "cell_type": "code",
   "execution_count": null,
   "id": "e3a98f9a-b9ba-4592-97b5-80f0982bec1d",
   "metadata": {},
   "outputs": [],
   "source": [
    "#Class BankAccount with Private Balance:\n",
    "class BankAccount:\n",
    "    def __init__(self, balance):\n",
    "        self.__balance = balance\n",
    "\n",
    "    def deposit(self, amount):\n",
    "        self.__balance += amount\n",
    "\n",
    "    def withdraw(self, amount):\n",
    "        if amount <= self.__balance:\n",
    "            self.__balance -= amount\n",
    "        else:\n",
    "            print(\"Insufficient funds\")\n",
    "\n",
    "    def check_balance(self):\n",
    "        return self.__balance\n"
   ]
  },
  {
   "cell_type": "code",
   "execution_count": null,
   "id": "92651d67-59d2-432d-b455-1af0db4803d7",
   "metadata": {},
   "outputs": [],
   "source": []
  }
 ],
 "metadata": {
  "kernelspec": {
   "display_name": "Python 3 (ipykernel)",
   "language": "python",
   "name": "python3"
  },
  "language_info": {
   "codemirror_mode": {
    "name": "ipython",
    "version": 3
   },
   "file_extension": ".py",
   "mimetype": "text/x-python",
   "name": "python",
   "nbconvert_exporter": "python",
   "pygments_lexer": "ipython3",
   "version": "3.12.2"
  }
 },
 "nbformat": 4,
 "nbformat_minor": 5
}
